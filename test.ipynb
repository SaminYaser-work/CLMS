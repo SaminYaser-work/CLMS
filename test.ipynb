{
 "cells": [
  {
   "cell_type": "code",
   "execution_count": 3,
   "metadata": {},
   "outputs": [],
   "source": [
    "def print_title() -> None:\n",
    "    title = '''\n",
    "                                           .         .                         \n",
    "    ,o888888o.    8 8888                  ,8.       ,8.            d888888o.   \n",
    "   8888     `88.  8 8888                 ,888.     ,888.         .`8888:' `88. \n",
    ",8 8888       `8. 8 8888                .`8888.   .`8888.        8.`8888.   Y8 \n",
    "88 8888           8 8888               ,8.`8888. ,8.`8888.       `8.`8888.     \n",
    "88 8888           8 8888              ,8'8.`8888,8^8.`8888.       `8.`8888.    \n",
    "88 8888           8 8888             ,8' `8.`8888' `8.`8888.       `8.`8888.   \n",
    "88 8888           8 8888            ,8'   `8.`88'   `8.`8888.       `8.`8888.  \n",
    "`8 8888       .8' 8 8888           ,8'     `8.`'     `8.`8888.  8b   `8.`8888. \n",
    "   8888     ,88'  8 8888          ,8'       `8        `8.`8888. `8b.  ;8.`8888 \n",
    "    `8888888P'    8 888888888888 ,8'         `         `8.`8888. `Y8888P ,88P' \n",
    "\n",
    "                                                     Yaser, Samin - 19-39442-1\n",
    "    '''\n",
    "    print(title)"
   ]
  },
  {
   "cell_type": "code",
   "execution_count": 8,
   "metadata": {},
   "outputs": [],
   "source": [
    "def main_menu() -> None:\n",
    "    menu = '''\n",
    "    1. Add new PC\n",
    "    2. Update PC\n",
    "    3. Remove PC\n",
    "    4. Show all PCs\n",
    "    5. Search PC\n",
    "    6. Quit\n",
    "    '''\n",
    "    while True:\n",
    "        print('-' * 50)\n",
    "        print(menu)\n",
    "        choice = input('\\nEnter your choice: ')\n",
    "        if choice == '1':\n",
    "            pass\n",
    "        elif choice == '2':\n",
    "            pass\n",
    "        elif choice == '3':\n",
    "            pass\n",
    "        elif choice == '4':\n",
    "            pass\n",
    "        elif choice == '5':\n",
    "            pass\n",
    "        elif choice == '6':\n",
    "            break\n",
    "        else:\n",
    "            print('Invalid choice')"
   ]
  },
  {
   "cell_type": "code",
   "execution_count": 5,
   "metadata": {},
   "outputs": [],
   "source": [
    "data = [\n",
    "    {\n",
    "        \"id\": 1,\n",
    "        \"name\": \"PC1\",\n",
    "        \"os\": \"Windows\",\n",
    "    },\n",
    "    {\n",
    "        \"id\": 2,\n",
    "        \"name\": \"PC1\",\n",
    "        \"os\": \"Linux\",\n",
    "    },\n",
    "    {\n",
    "        \"id\": 3,\n",
    "        \"name\": \"PC1\",\n",
    "        \"os\": \"Mac\",\n",
    "    },\n",
    "]"
   ]
  },
  {
   "cell_type": "code",
   "execution_count": 7,
   "metadata": {},
   "outputs": [
    {
     "name": "stdout",
     "output_type": "stream",
     "text": [
      "\n",
      "                                           .         .                         \n",
      "    ,o888888o.    8 8888                  ,8.       ,8.            d888888o.   \n",
      "   8888     `88.  8 8888                 ,888.     ,888.         .`8888:' `88. \n",
      ",8 8888       `8. 8 8888                .`8888.   .`8888.        8.`8888.   Y8 \n",
      "88 8888           8 8888               ,8.`8888. ,8.`8888.       `8.`8888.     \n",
      "88 8888           8 8888              ,8'8.`8888,8^8.`8888.       `8.`8888.    \n",
      "88 8888           8 8888             ,8' `8.`8888' `8.`8888.       `8.`8888.   \n",
      "88 8888           8 8888            ,8'   `8.`88'   `8.`8888.       `8.`8888.  \n",
      "`8 8888       .8' 8 8888           ,8'     `8.`'     `8.`8888.  8b   `8.`8888. \n",
      "   8888     ,88'  8 8888          ,8'       `8        `8.`8888. `8b.  ;8.`8888 \n",
      "    `8888888P'    8 888888888888 ,8'         `         `8.`8888. `Y8888P ,88P' \n",
      "\n",
      "                                                     Yaser, Samin - 19-39442-1\n",
      "    \n",
      "\n",
      "    1. Add new PC\n",
      "    2. Update PC\n",
      "    3. Remove PC\n",
      "    4. Show all PCs\n",
      "    5. Search PC\n",
      "    6. Quit\n",
      "    \n",
      "Quitting...\n"
     ]
    }
   ],
   "source": [
    "def start_program():\n",
    "    print_title()\n",
    "    main_menu()\n",
    "    print('Quitting...')\n",
    "\n",
    "start_program()"
   ]
  }
 ],
 "metadata": {
  "kernelspec": {
   "display_name": "mid-_qzT6iDZ",
   "language": "python",
   "name": "python3"
  },
  "language_info": {
   "codemirror_mode": {
    "name": "ipython",
    "version": 3
   },
   "file_extension": ".py",
   "mimetype": "text/x-python",
   "name": "python",
   "nbconvert_exporter": "python",
   "pygments_lexer": "ipython3",
   "version": "3.10.6"
  },
  "orig_nbformat": 4,
  "vscode": {
   "interpreter": {
    "hash": "14fd3fce4894f351ba56e8dfccb5d1a2ebdaeeb65ed5acbc347d9aa688ddb104"
   }
  }
 },
 "nbformat": 4,
 "nbformat_minor": 2
}
